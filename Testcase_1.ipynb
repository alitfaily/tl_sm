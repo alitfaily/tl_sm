{
 "cells": [
  {
   "cell_type": "code",
   "execution_count": 67,
   "metadata": {},
   "outputs": [],
   "source": [
    "import math\n",
    "import numpy as np\n",
    "\n",
    "def f1(xin,yin):\n",
    "    x1 = xin \n",
    "    x2 = yin     \n",
    "    return np.array(x1**2 + 2*x2**2 + 0.3*np.cos(1.0*math.pi*x1)*np.cos(2.0*math.pi*x2))\n",
    "\n",
    "def f2(xin,yin):\n",
    "    x1 = xin \n",
    "    x2 = yin     \n",
    "    return np.array(2*x1**2 + 4*x2**2 - 0.3*np.cos(3.0*math.pi*x1+4.0*math.pi*x2) - 0.5)\n",
    "\n",
    "def f3(xin,yin):   \n",
    "    x1 = xin \n",
    "    x2 = yin     \n",
    "    return np.array(x1**2 + 2*x2**2 - 0.3*np.cos(1.0*math.pi*x1) - 0.4*np.cos(2.0*math.pi*x2) + 0.7)\n",
    "\n",
    "def ft(xin,yin):    \n",
    "    x1 = xin \n",
    "    x2 = yin     \n",
    "    return np.array(0.5*x1**2 + 1.0*x2**2 - 0.3*np.cos(3.0*math.pi*x1+4.0*math.pi*x2) +0.4)\n",
    "\n"
   ]
  },
  {
   "cell_type": "code",
   "execution_count": 68,
   "metadata": {},
   "outputs": [],
   "source": [
    "from smt.sampling_methods import LHS\n",
    "init_points = 50\n",
    "xlimits = np.array([[-5.0, 5.0], [-5.0, 5.0]])\n",
    "sampling = LHS(xlimits=xlimits) #, c='ese'\n",
    "lhs_samples1 = sampling(init_points)\n",
    "targets1= f1(lhs_samples1[:,0],lhs_samples1[:,1])"
   ]
  },
  {
   "cell_type": "code",
   "execution_count": 69,
   "metadata": {},
   "outputs": [],
   "source": [
    "#xlimits = np.array([[-5.0, 5.0], [-5.0, 5.0]])\n",
    "sampling = LHS(xlimits=xlimits) #, c='ese'\n",
    "lhs_samples2 = sampling(init_points)\n",
    "targets2= f2(lhs_samples2[:,0],lhs_samples2[:,1])"
   ]
  },
  {
   "cell_type": "code",
   "execution_count": 70,
   "metadata": {},
   "outputs": [],
   "source": [
    "sampling = LHS(xlimits=xlimits) #, c='ese'\n",
    "lhs_samples3 = sampling(init_points)\n",
    "targets3= f3(lhs_samples3[:,0],lhs_samples3[:,1])\n"
   ]
  },
  {
   "cell_type": "code",
   "execution_count": 71,
   "metadata": {},
   "outputs": [],
   "source": [
    "configuration1 = {'configurations': lhs_samples1, 'y' :targets1}\n",
    "configuration2 = {'configurations': lhs_samples2, 'y' :targets2}\n",
    "configuration3 = {'configurations': lhs_samples3, 'y' :targets3}\n",
    "training_data = {1:configuration1, 2:configuration2, 3:configuration3}"
   ]
  },
  {
   "cell_type": "code",
   "execution_count": 72,
   "metadata": {},
   "outputs": [],
   "source": [
    "target_points = 10\n",
    "sampling = LHS(xlimits=xlimits) #, c='ese'\n",
    "lhs_samples_target = sampling(target_points)\n",
    "targets_target= ft(lhs_samples_target[:,0],lhs_samples_target[:,1])\n"
   ]
  },
  {
   "cell_type": "code",
   "execution_count": 73,
   "metadata": {},
   "outputs": [
    {
     "name": "stdout",
     "output_type": "stream",
     "text": [
      "___________________________________________________________________________\n",
      "   \n",
      "                                   KPLS\n",
      "___________________________________________________________________________\n",
      "   \n",
      " Problem size\n",
      "   \n",
      "      # training points.        : 10\n",
      "   \n",
      "___________________________________________________________________________\n",
      "   \n",
      " Training\n",
      "   \n",
      "   Training ...\n",
      "   Training - done. Time (sec):  0.2051585\n"
     ]
    }
   ],
   "source": [
    "from smt.surrogate_models import KPLS\n",
    "target_model=KPLS()\n",
    "X = lhs_samples_target\n",
    "Y =targets_target # comment this line if running any task other than target task\n",
    "target_model.set_training_values(X, Y) #using SMT method\n",
    "target_model.train()"
   ]
  },
  {
   "cell_type": "code",
   "execution_count": 74,
   "metadata": {},
   "outputs": [
    {
     "name": "stderr",
     "output_type": "stream",
     "text": [
      "c:\\Users\\b0527730\\Anaconda3\\envs\\bayes1\\lib\\site-packages\\smt\\surrogate_models\\krg_based.py:968: UserWarning: R is too ill conditioned. Poor combination of regression model and observations.\n",
      "  warnings.warn(\n"
     ]
    },
    {
     "data": {
      "text/plain": [
       "<GP_ops.GPops_dev at 0x1d813dd0f10>"
      ]
     },
     "execution_count": 74,
     "metadata": {},
     "output_type": "execute_result"
    }
   ],
   "source": [
    "from tlsm import GPops_dev\n",
    "gpops =  GPops_dev(training_data=training_data,weight_dilution_strategy = 'None',ignore_target_model = True, bandwidth=0.5, alpha_a=1, alpha_t=1,alpha_s=1, min_accuracy=0.1)\n",
    "gpops._train(X = lhs_samples_target, Y =targets_target)\n"
   ]
  },
  {
   "cell_type": "code",
   "execution_count": 75,
   "metadata": {},
   "outputs": [],
   "source": [
    "X_test = [np.random.uniform([-5.0,-5.0], [5.0,5.0]) for _ in range(20)]\n",
    "error=[0] * len(X_test)\n",
    "error_t=[0] * len(X_test)\n",
    "error_gpos=[0] * len(X_test)\n",
    "error_rgpe = [0] * len(X_test)\n",
    "error_b1 = [0] * len(X_test)\n",
    "error_b2 = [0] * len(X_test)\n",
    "error_b3 = [0] * len(X_test)\n",
    "error_b1o = [0] * len(X_test)\n",
    "error_b2o = [0] * len(X_test)\n",
    "error_b3o = [0] * len(X_test)\n",
    "for i,x in enumerate(X_test):\n",
    "    xn = np.atleast_2d(x)\n",
    "    est_gpos = gpops._predict(xn)[0]\n",
    "    est_b1 = gpops.coefs_[0,0]*gpops.base_models[0].predict_values(xn)[:,0] + gpops.coefs_[0,1]\n",
    "    error_b1[i] = abs(ft(x[0],x[1]) - est_b1 )/abs(ft(x[0],x[1]))\n",
    "    est_b2 = gpops.coefs_[1,0]*gpops.base_models[1].predict_values(xn)[:,0] + gpops.coefs_[1,1]\n",
    "    error_b2[i] = abs(ft(x[0],x[1]) - est_b2 )/abs(ft(x[0],x[1]))\n",
    "    est_b3 = gpops.coefs_[2,0]*gpops.base_models[2].predict_values(xn)[:,0] + gpops.coefs_[2,1]\n",
    "    error_b3[i] = abs(ft(x[0],x[1]) - est_b3 )/abs(ft(x[0],x[1]))\n",
    "    est_b1o = gpops.base_models[0].predict_values(xn)[:,0] \n",
    "    error_b1o[i] = abs(ft(x[0],x[1]) - est_b1o )/abs(ft(x[0],x[1]))\n",
    "    est_b2o = gpops.base_models[1].predict_values(xn)[:,0] \n",
    "    error_b2o[i] = abs(ft(x[0],x[1]) - est_b2o )/abs(ft(x[0],x[1]))\n",
    "    est_b3o = gpops.base_models[2].predict_values(xn)[:,0] \n",
    "    error_b3o[i] = abs(ft(x[0],x[1]) - est_b3o )/abs(ft(x[0],x[1]))\n",
    "    error_t[i] = abs(ft(x[0],x[1]) - target_model._predict_values(xn))/abs(ft(x[0],x[1]))\n",
    "    error_gpos[i] = abs(ft(x[0],x[1]) - est_gpos[0])/abs(ft(x[0],x[1]))\n"
   ]
  },
  {
   "cell_type": "code",
   "execution_count": 76,
   "metadata": {},
   "outputs": [
    {
     "name": "stdout",
     "output_type": "stream",
     "text": [
      "20\n"
     ]
    },
    {
     "data": {
      "text/plain": [
       "Text(0, 0.5, '% Prediction Error')"
      ]
     },
     "execution_count": 76,
     "metadata": {},
     "output_type": "execute_result"
    },
    {
     "data": {
      "image/png": "[encoded data removed]",
      "text/plain": [
       "<Figure size 640x480 with 1 Axes>"
      ]
     },
     "metadata": {},
     "output_type": "display_data"
    }
   ],
   "source": [
    "import matplotlib.pyplot as plt\n",
    "red_square = dict(markerfacecolor='r', marker='s')\n",
    "fig = plt.figure()\n",
    "ax = plt.axes()\n",
    "print(len(np.array(error_b1)*100))\n",
    "errors = np.vstack([ np.array(error_gpos)*100, np.concatenate(error_b1).ravel()*100, np.concatenate(error_b2).ravel()*100, np.concatenate(error_b3).ravel()*100,np.concatenate(error_t).ravel()*100])\n",
    "errors = errors.T\n",
    "#ax.boxplot(errors,flierprops=red_square, vert=True, whis=0.75, labels =[ 'Ensemble-TL','$\\^y_{s\\'}^1$','$\\^y_{s\\'}^2$','$\\^y_{s\\'}^3$','$\\^y_{t}$'] ) #, labels=box_dict.keys()\n",
    "ax.boxplot(errors,flierprops=red_square, vert=True, whis=0.75, labels =[ 'Ensemble-TL','$\\^y_{s\\'}^1$','$\\^y_{s\\'}^2$','$\\^y_{s\\'}^3$','$\\^y_{t}$'] ) #, labels=box_dict.keys()\n",
    "\n",
    "ax.set_ylabel('% Prediction Error') \n"
   ]
  },
  {
   "cell_type": "code",
   "execution_count": 77,
   "metadata": {},
   "outputs": [
    {
     "data": {
      "text/plain": [
       "Text(0, 0.5, '% Prediction Error')"
      ]
     },
     "execution_count": 77,
     "metadata": {},
     "output_type": "execute_result"
    },
    {
     "data": {
      "image/png": "[encoded data removed]",
      "text/plain": [
       "<Figure size 640x480 with 1 Axes>"
      ]
     },
     "metadata": {},
     "output_type": "display_data"
    }
   ],
   "source": [
    "import matplotlib.pyplot as plt\n",
    "red_square = dict(markerfacecolor='r', marker='s')\n",
    "fig = plt.figure()\n",
    "ax = plt.axes()\n",
    "\n",
    "errors = np.vstack([ np.array(error_gpos)*100, np.concatenate(error_b1).ravel()*100, np.concatenate(error_b2).ravel()*100, np.concatenate(error_b3).ravel()*100, np.concatenate(error_b1o).ravel()*100, np.concatenate(error_b2o).ravel()*100, np.concatenate(error_b3o).ravel()*100,np.concatenate(error_t).ravel()*100])\n",
    "errors = errors.T\n",
    "ax.boxplot(errors,flierprops=red_square, vert=True, whis=0.75, labels =[ 'Ensemble-TL','$\\^y_{s\\'}^1$','$\\^y_{s\\'}^2$','$\\^y_{s\\'}^3$','$\\^y_s^{1}$','$\\^y_s^{2}$','$\\^y_s^{3}$','$\\^y_{t}$'] ) #, labels=box_dict.keys()\n",
    "ax.set_ylabel('% Prediction Error') \n"
   ]
  }
 ],
 "metadata": {
  "kernelspec": {
   "display_name": "bayes1",
   "language": "python",
   "name": "python3"
  },
  "language_info": {
   "codemirror_mode": {
    "name": "ipython",
    "version": 3
   },
   "file_extension": ".py",
   "mimetype": "text/x-python",
   "name": "python",
   "nbconvert_exporter": "python",
   "pygments_lexer": "ipython3",
   "version": "3.8.18"
  }
 },
 "nbformat": 4,
 "nbformat_minor": 4
}
